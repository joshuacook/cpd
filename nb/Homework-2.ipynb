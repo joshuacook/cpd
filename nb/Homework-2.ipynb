{
 "cells": [
  {
   "cell_type": "markdown",
   "metadata": {},
   "source": [
    "Assume that $m = 1\\text{ kg}$, $b = 0.1$, $k = 0.2$, and $F = 3 \\sin(3t)$, where the units of $k$, $b$, and $F$ are those you found above. Assume moreover that $x(0) = 0$ and \n",
    "\n",
    "$$\\frac{dx}{dt}( 0 ) = 1 \\frac{m}{s}$$\n",
    "\n",
    "Compute the response of the mass-spring-damper system from time $t = 0$ to time $t = 10 \\text{ s}$. Plot $x$ and $\\frac{dx}{dt}$ as functions of time. \n",
    "\n",
    "What does the plot look like?\n",
    "\n",
    "[Hint: The response can be solved in several ways. One way is to use ode45 in matlab. Type \"help ode45\" in the command window to see how to use it.]"
   ]
  },
  {
   "cell_type": "code",
   "execution_count": 3,
   "metadata": {},
   "outputs": [],
   "source": [
    "import numpy as np\n",
    "import scipy.integrate as integrate\n",
    "\n",
    "b = 0.1\n",
    "k = 0.2\n",
    "m = 1\n",
    "f = lambda t: np.sin(3*t)\n",
    "\n",
    "# dz = lambda t: np.array([(0, 1), (-b/m,-k/m)])@"
   ]
  },
  {
   "cell_type": "code",
   "execution_count": 10,
   "metadata": {},
   "outputs": [
    {
     "data": {
      "image/png": "[encoded data removed]",
      "text/plain": [
       "<Figure size 288x216 with 1 Axes>"
      ]
     },
     "metadata": {
      "needs_background": "light"
     },
     "output_type": "display_data"
    }
   ],
   "source": [
    "import numpy as np\n",
    "from scipy.integrate import odeint\n",
    "from matplotlib import pyplot as plt\n",
    "\n",
    "mass = 1  # kg\n",
    "kspring = 0.2  # N/m\n",
    "cviscous = 0.1  # N s/m\n",
    "\n",
    "def calc_deri(yvec, time):\n",
    "    return (yvec[1], -b/m*yvec[0] - k/m*yvec[1] + 1/m*np.sin(3*time))\n",
    "\n",
    "time_vec = np.linspace(0, 10, 10)\n",
    "yinit = (1, 0)\n",
    "yarr = odeint(calc_deri, yinit, time_vec)\n",
    "\n",
    "plt.figure(figsize=(4, 3))\n",
    "plt.plot(time_vec, yarr[:, 0], label='y')\n",
    "plt.plot(time_vec, yarr[:, 1], label=\"y'\")\n",
    "plt.legend(loc='best')\n",
    "plt.show()"
   ]
  },
  {
   "cell_type": "code",
   "execution_count": 11,
   "metadata": {},
   "outputs": [
    {
     "data": {
      "text/plain": [
       "array([[ 1.        ,  0.        ],\n",
       "       [ 1.30649529,  0.47775227],\n",
       "       [ 1.30532087, -0.31323587],\n",
       "       [ 1.33413086,  0.12921905],\n",
       "       [ 0.97525673, -0.45429595],\n",
       "       [ 0.87115273, -0.09982956],\n",
       "       [ 0.35850666, -0.39698179],\n",
       "       [ 0.27404915, -0.20120394],\n",
       "       [-0.20701761, -0.19660887],\n",
       "       [-0.18209148, -0.21956076]])"
      ]
     },
     "execution_count": 11,
     "metadata": {},
     "output_type": "execute_result"
    }
   ],
   "source": [
    "yarr"
   ]
  },
  {
   "cell_type": "code",
   "execution_count": null,
   "metadata": {},
   "outputs": [],
   "source": [
    "yarr"
   ]
  }
 ],
 "metadata": {
  "kernelspec": {
   "display_name": "Python 3",
   "language": "python",
   "name": "python3"
  },
  "language_info": {
   "codemirror_mode": {
    "name": "ipython",
    "version": 3
   },
   "file_extension": ".py",
   "mimetype": "text/x-python",
   "name": "python",
   "nbconvert_exporter": "python",
   "pygments_lexer": "ipython3",
   "version": "3.7.4"
  }
 },
 "nbformat": 4,
 "nbformat_minor": 4
}
